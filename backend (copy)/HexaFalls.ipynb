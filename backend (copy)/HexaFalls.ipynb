{
 "cells": [
  {
   "cell_type": "code",
   "execution_count": 1,
   "id": "5739dc64-b2d8-4e79-8a6e-cf193508c9e5",
   "metadata": {},
   "outputs": [],
   "source": [
    "from openai import OpenAI\n",
    "from dotenv import load_dotenv\n",
    "import json\n",
    "import os"
   ]
  },
  {
   "cell_type": "code",
   "execution_count": 2,
   "id": "093f7b3d-f466-463b-aafc-ca173e062215",
   "metadata": {},
   "outputs": [],
   "source": [
    "def score_food(label):\n",
    "    # Gen threshold\n",
    "    max_sugar   = 30.0   # g\n",
    "    max_sat_fat = 15.0   # g\n",
    "    max_sodium  = 1000.0 # mg\n",
    "    max_cal     = 500.0  # kcal\n",
    "    max_fiber   = 10.0  # g\n",
    "    max_prot    = 20.0  # g\n",
    "    #Collected Data\n",
    "    sugar   = min(label.get('sugar',   0), max_sugar)\n",
    "    sat_fat = min(label.get('sat_fat', 0), max_sat_fat)\n",
    "    sodium  = min(label.get('sodium',  0), max_sodium)\n",
    "    cal     = min(label.get('calories',0), max_cal)\n",
    "    fiber   = min(label.get('fiber',   0), max_fiber)\n",
    "    prot    = min(label.get('protein', 0), max_prot)\n",
    "    # Normalize each to 0-1\n",
    "    n_sugar   = sugar   / max_sugar\n",
    "    n_satfat  = sat_fat / max_sat_fat\n",
    "    n_sodium  = sodium  / max_sodium\n",
    "    n_cal     = cal     / max_cal\n",
    "    n_fiber   = fiber   / max_fiber\n",
    "    n_prot    = prot    / max_prot\n",
    "    # Weights: negative for “bad” nutrients, positive for “good” ones\n",
    "    weights = {\n",
    "        'sugar':   -0.25,\n",
    "        'satfat':  -0.20,\n",
    "        'sodium':  -0.20,\n",
    "        'cal':     -0.15,\n",
    "        'fiber':   +0.10,\n",
    "        'protein': +0.10,\n",
    "    }\n",
    "    # Compute weighted sum (range roughly –1 to +1)\n",
    "    score_raw = (\n",
    "        weights['sugar']   * n_sugar +\n",
    "        weights['satfat']  * n_satfat +\n",
    "        weights['sodium']  * n_sodium +\n",
    "        weights['cal']     * n_cal +\n",
    "        weights['fiber']   * n_fiber +\n",
    "        weights['protein'] * n_prot\n",
    "    )\n",
    "    score = (score_raw + 1) * 50\n",
    "    return max(0, min(100, score))"
   ]
  },
  {
   "cell_type": "code",
   "execution_count": 3,
   "id": "17e71efc-316e-4ed5-9389-da0839083fee",
   "metadata": {},
   "outputs": [],
   "source": [
    "def parse_nutrition_json(json_str):\n",
    "    try:\n",
    "        json_str = json_str.strip('```json\\n').strip('```')\n",
    "        nutrition_data = json.loads(json_str)\n",
    "        return nutrition_data\n",
    "    except json.JSONDecodeError as e:\n",
    "        print(f\"Error decoding JSON: {e}\")\n",
    "        return None"
   ]
  },
  {
   "cell_type": "code",
   "execution_count": 4,
   "id": "a3aace93-6192-4967-9af6-e52f9dceb278",
   "metadata": {},
   "outputs": [],
   "source": [
    "test=\"\"\"\n",
    "Nutritional Information (Per 100 ml):\n",
    "Energy: 60.8 kcal\n",
    "\n",
    "Protein: 0.0 g\n",
    "\n",
    "Carbohydrate: 15.2 g\n",
    "\n",
    "Total Sugars: 15.1 g\n",
    "\n",
    "Added Sugars: 13.7 g (34% RDA per serving)\n",
    "\n",
    "Total Fat: 0.0 g\n",
    "\n",
    "Sodium: 3.3 mg (0.2% RDA per serving)\n",
    "\n",
    "Added Vitamin D: 1.5 mcg (12.5% RDA per serving)\n",
    "\n",
    "Serving Size:\n",
    "125 ml (1 serving per package)\n",
    "\n",
    "\n",
    "\"\"\""
   ]
  },
  {
   "cell_type": "code",
   "execution_count": 5,
   "id": "f014ead5-8133-431c-80ec-9bc1f2e6b676",
   "metadata": {},
   "outputs": [],
   "source": [
    "SYSTEM_PROMPT = \"\"\"\n",
    "You will receive raw nutrition-label text (e.g. “Total Sugars: 15.1 g; Saturated Fat: 0.0 g; Sodium: 3.3 mg; Fiber: —; Protein: 0.0 g; Energy: 60.8 kcal”).\n",
    "\n",
    "Extract and return the following fields in **strict JSON format** (no explanations, no extra text):\n",
    "\n",
    "- sugar    : float (grams of sugar)\n",
    "- sat_fat  : float (grams of saturated fat)\n",
    "- sodium   : int   (milligrams of sodium)\n",
    "- fiber    : float (grams of dietary fiber; use 0.0 if missing or marked as —)\n",
    "- protein  : float (grams of protein)\n",
    "- calories : float (kcal)\n",
    "\n",
    "Return the result exactly like this:\n",
    "\n",
    "{\n",
    "  \"sugar\": 12.0,\n",
    "  \"sat_fat\": 4.5,\n",
    "  \"sodium\": 250,\n",
    "  \"fiber\": 3.0,\n",
    "  \"protein\": 7.0,\n",
    "  \"calories\": 180.0\n",
    "}\n",
    "\"\"\"\n"
   ]
  },
  {
   "cell_type": "code",
   "execution_count": 6,
   "id": "60d2df76-20e2-4a8f-ba83-b439c23b90ed",
   "metadata": {},
   "outputs": [],
   "source": [
    "load_dotenv()\n",
    "\n",
    "client = OpenAI(\n",
    "  base_url=\"https://openrouter.ai/api/v1\",\n",
    "  api_key=os.getenv('OPENROUTER_API_KEY'),\n",
    ")\n",
    "\n",
    "def formatter(sysP,label):    \n",
    "    completion = client.chat.completions.create(\n",
    "      model=\"deepseek/deepseek-chat-v3-0324:free\",\n",
    "      messages=[\n",
    "       {\n",
    "           \"role\": \"system\",\n",
    "           \"content\": sysP\n",
    "        },\n",
    "        {\n",
    "          \"role\": \"user\",\n",
    "          \"content\": label\n",
    "        }\n",
    "      ]\n",
    "    )\n",
    "    return (completion.choices[0].message.content)\n"
   ]
  },
  {
   "cell_type": "code",
   "execution_count": 7,
   "id": "a9f553d0-b5d2-4096-8122-4f2d19970667",
   "metadata": {},
   "outputs": [],
   "source": [
    "def get_class(score):\n",
    "    if(score<40 and score>20):\n",
    "        return 'Harmful'\n",
    "    elif(score<20):\n",
    "        return 'Very Harmful'\n",
    "    else:\n",
    "        return 'Safe'"
   ]
  },
  {
   "cell_type": "code",
   "execution_count": 8,
   "id": "824b6a5b-423d-48c7-ab2c-7e8c3018f522",
   "metadata": {},
   "outputs": [],
   "source": [
    "neut=formatter(SYSTEM_PROMPT ,test)\n",
    "a=parse_nutrition_json(neut)"
   ]
  },
  {
   "cell_type": "code",
   "execution_count": 9,
   "id": "c2a7c788-c0ba-40e5-89dc-190e2d58e1b9",
   "metadata": {},
   "outputs": [],
   "source": [
    "score=score_food(a)"
   ]
  },
  {
   "cell_type": "code",
   "execution_count": 10,
   "id": "69572ccc-a626-4a46-8e5b-655a5ae826db",
   "metadata": {},
   "outputs": [
    {
     "data": {
      "text/plain": [
       "'Safe'"
      ]
     },
     "execution_count": 10,
     "metadata": {},
     "output_type": "execute_result"
    }
   ],
   "source": [
    "get_class(score)"
   ]
  },
  {
   "cell_type": "code",
   "execution_count": 11,
   "id": "1a5631b7-0154-4ac6-93e6-887f1004cdde",
   "metadata": {},
   "outputs": [],
   "source": [
    "sys1=\"\"\"\n",
    "return a json and strictly in json format.\n",
    "{\n",
    "        \"message\":Why the product is bad for health\n",
    "        \"Product\":\"A more healthy product\"\n",
    "}\n",
    "\"\"\""
   ]
  },
  {
   "cell_type": "code",
   "execution_count": 12,
   "id": "8448646e-fffb-4a27-8456-9caa7466fcda",
   "metadata": {},
   "outputs": [
    {
     "data": {
      "text/plain": [
       "'```json\\n{\\n  \"message\": \"Lays chips are high in sugar (15.1g) and contain minimal fiber or protein, leading to potential blood sugar spikes and low nutritional value.\",\\n  \"Product\": \"Baked sweet potato chips (lower in sugar, higher in fiber, and naturally nutritious)\"\\n}\\n```'"
      ]
     },
     "execution_count": 12,
     "metadata": {},
     "output_type": "execute_result"
    }
   ],
   "source": [
    "formatter(sys1,(\"name:lays\"+\"neutration\"+neut))"
   ]
  },
  {
   "cell_type": "code",
   "execution_count": 13,
   "id": "c308eb95-d4ea-4c0e-b26a-9e993200bae3",
   "metadata": {},
   "outputs": [
    {
     "data": {
      "text/plain": [
       "{'sugar': 15.1,\n",
       " 'sat_fat': 0.0,\n",
       " 'sodium': 3,\n",
       " 'fiber': 0.0,\n",
       " 'protein': 0.0,\n",
       " 'calories': 60.8}"
      ]
     },
     "execution_count": 13,
     "metadata": {},
     "output_type": "execute_result"
    }
   ],
   "source": [
    "a"
   ]
  },
  {
   "cell_type": "code",
   "execution_count": null,
   "id": "1b43e5b4-c4b4-4b99-a4a0-c41cef513299",
   "metadata": {},
   "outputs": [],
   "source": []
  }
 ],
 "metadata": {
  "kernelspec": {
   "display_name": "Python 3 (ipykernel)",
   "language": "python",
   "name": "python3"
  },
  "language_info": {
   "codemirror_mode": {
    "name": "ipython",
    "version": 3
   },
   "file_extension": ".py",
   "mimetype": "text/x-python",
   "name": "python",
   "nbconvert_exporter": "python",
   "pygments_lexer": "ipython3",
   "version": "3.11.2"
  }
 },
 "nbformat": 4,
 "nbformat_minor": 5
}
